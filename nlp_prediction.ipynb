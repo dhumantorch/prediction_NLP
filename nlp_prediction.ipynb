{
 "cells": [
  {
   "cell_type": "markdown",
   "metadata": {
    "colab_type": "text",
    "id": "VwK5-9FIB-lu"
   },
   "source": [
    "# Natural Language Processing"
   ]
  },
  {
   "cell_type": "markdown",
   "metadata": {},
   "source": [
    "This project is a simple NLP prediction project, with Random Forest classification and XGBoost used as predictive models.  The data consists of hotel reviews, each giving a rating from 1 to 5, and I built the predictive model to make a guess as to what the given rating will be, based on the review.  It's more complex than a simple 0 or 1 binary prediction, and I like that.\n",
    "\n",
    "I've read people say that \"anyone can run xgboost with sklearn\" when talking about portfolio projects.  Well then I guess it's time to prove that I'm one of those \"anyone.\""
   ]
  },
  {
   "cell_type": "markdown",
   "metadata": {
    "colab_type": "text",
    "id": "X1kiO9kACE6s"
   },
   "source": [
    "## Import the libraries"
   ]
  },
  {
   "cell_type": "code",
   "execution_count": 497,
   "metadata": {
    "colab": {},
    "colab_type": "code",
    "id": "7QG7sxmoCIvN"
   },
   "outputs": [
    {
     "name": "stderr",
     "output_type": "stream",
     "text": [
      "[nltk_data] Downloading package stopwords to\n",
      "[nltk_data]     C:\\Users\\David\\AppData\\Roaming\\nltk_data...\n",
      "[nltk_data]   Package stopwords is already up-to-date!\n"
     ]
    }
   ],
   "source": [
    "#Standard python libraries\n",
    "import numpy as np\n",
    "import matplotlib.pyplot as plt\n",
    "import pandas as pd\n",
    "\n",
    "#Libraries for NLP\n",
    "import re\n",
    "import nltk\n",
    "nltk.download('stopwords')\n",
    "from nltk.corpus import stopwords\n",
    "from nltk.stem.porter import PorterStemmer\n",
    "from sklearn.feature_extraction.text import CountVectorizer\n",
    "\n",
    "#Libraries for Random Forest prediction model\n",
    "from sklearn.model_selection import train_test_split\n",
    "from sklearn.ensemble import RandomForestClassifier\n",
    "from sklearn.metrics import confusion_matrix, accuracy_score\n",
    "import time\n",
    "\n",
    "#Libraries for XGBoost\n",
    "import xgboost\n",
    "from xgboost import XGBClassifier\n",
    "from sklearn.model_selection import cross_val_score"
   ]
  },
  {
   "cell_type": "markdown",
   "metadata": {
    "colab_type": "text",
    "id": "wTfaCIzdCLPA"
   },
   "source": [
    "## Read in the dataset"
   ]
  },
  {
   "cell_type": "code",
   "execution_count": 498,
   "metadata": {
    "colab": {},
    "colab_type": "code",
    "id": "UCK6vQ5QCQJe"
   },
   "outputs": [],
   "source": [
    "#Read the dataset in\n",
    "reviews = pd.read_csv('tripadvisor_hotel_reviews.csv')"
   ]
  },
  {
   "cell_type": "code",
   "execution_count": 499,
   "metadata": {},
   "outputs": [
    {
     "name": "stdout",
     "output_type": "stream",
     "text": [
      "                                              Review  Rating\n",
      "0  nice hotel expensive parking got good deal sta...       4\n",
      "1  ok nothing special charge diamond member hilto...       2\n",
      "2  nice rooms not 4* experience hotel monaco seat...       3\n",
      "3  unique, great stay, wonderful time hotel monac...       5\n",
      "4  great stay great stay, went seahawk game aweso...       5\n",
      "\n",
      "\n",
      "<class 'pandas.core.frame.DataFrame'>\n",
      "RangeIndex: 20491 entries, 0 to 20490\n",
      "Data columns (total 2 columns):\n",
      " #   Column  Non-Null Count  Dtype \n",
      "---  ------  --------------  ----- \n",
      " 0   Review  20491 non-null  object\n",
      " 1   Rating  20491 non-null  int64 \n",
      "dtypes: int64(1), object(1)\n",
      "memory usage: 320.3+ KB\n",
      "None\n"
     ]
    },
    {
     "data": {
      "image/png": "[encoded data removed]",
      "text/plain": [
       "<Figure size 432x288 with 1 Axes>"
      ]
     },
     "metadata": {
      "needs_background": "light"
     },
     "output_type": "display_data"
    }
   ],
   "source": [
    "#Print first several rows, examine dataframe specs\n",
    "print(dataset.head())\n",
    "print(\"\\n\")\n",
    "print(dataset.info())\n",
    "#Plot the ratings variable\n",
    "plt.hist(dataset['Rating'])\n",
    "plt.title('Ratings')\n",
    "plt.show()"
   ]
  },
  {
   "cell_type": "markdown",
   "metadata": {},
   "source": [
    "We see that there are no missing values in the dataframe, and looking at a histogram of the ratings, there aren't any outliers, although 5s are the most common rating.  There's no need to standardize the Ratings, because they're categorical. In addition, we don't need to encode the Ratings variable.\n",
    "\n",
    "The Descriptive MLR project in my portfolio requires some data cleaning, unlike this squeaky clean data.\n",
    "\n",
    "Now, let's take a look at the proportion of 5s in the dataset:"
   ]
  },
  {
   "cell_type": "code",
   "execution_count": 500,
   "metadata": {},
   "outputs": [
    {
     "name": "stdout",
     "output_type": "stream",
     "text": [
      "Proportion of Ratings that are 5s: \n",
      "0.44\n"
     ]
    }
   ],
   "source": [
    "print(\"Proportion of Ratings that are 5s: \")\n",
    "print('{0:.2f}'.format((reviews['Rating'] == 5).sum()/len(reviews)))"
   ]
  },
  {
   "cell_type": "markdown",
   "metadata": {
    "colab_type": "text",
    "id": "Qekztq71CixT"
   },
   "source": [
    "## Clean the text"
   ]
  },
  {
   "cell_type": "markdown",
   "metadata": {},
   "source": [
    "In the following NLP cleaning, I remove characters, make each review lowercase, remove stopwords (such as I, you, we etc) that do not give any indication of positivity or negativity in predicting ratings, and stem each word.  \n",
    "\n",
    "What I did that isn't standard procedure is I left most negative words (not, didn't, wasn't, etc) in the dataset, because I think they're important for discerning meaning.  For example, \"Next summer, I will stay here,\" is a far different review from \"Next summer, I will not stay here.\"\n",
    "\n",
    "I'm going to add the NLP process to an import file eventually, but I wanted to walk you through it in this notebook."
   ]
  },
  {
   "cell_type": "code",
   "execution_count": 501,
   "metadata": {
    "colab": {
     "base_uri": "https://localhost:8080/",
     "height": 52
    },
    "colab_type": "code",
    "executionInfo": {
     "elapsed": 1977,
     "status": "ok",
     "timestamp": 1589837794372,
     "user": {
      "displayName": "Hadelin de Ponteves",
      "photoUrl": "https://lh3.googleusercontent.com/a-/AOh14GhEuXdT7eQweUmRPW8_laJuPggSK6hfvpl5a6WBaA=s64",
      "userId": "15047218817161520419"
     },
     "user_tz": -240
    },
    "id": "8u_yXh9dCmEE",
    "outputId": "bdcb9868-74c8-40b2-e5e9-877b949ce385"
   },
   "outputs": [],
   "source": [
    "#NLP Cleaning\n",
    "corpus = []\n",
    "\n",
    "#The following for loop iterates through each review\n",
    "for i in range(0, len(reviews)): #20491\n",
    "  #remove everything that isn't a letter\n",
    "  message = re.sub('[^a-zA-Z]', ' ', reviews['Review'][i])\n",
    "  #remove uppercase letters\n",
    "  message = message.lower()\n",
    "  #Split message into comma-separated words\n",
    "  message = message.split()\n",
    "\n",
    "  #Load stopwords, remove most negatives because I think they'll be important\n",
    "  ps = PorterStemmer()\n",
    "  all_stopwords = stopwords.words('english')\n",
    "  for i in ['not', 'isn', 'wasn', 'won', 'shouldn', 'wouldn', 'weren', 'haven', \n",
    "            'hasn', 'hadn', 'aren', 'couldn', 'don', 'doesn', 'didn']:\n",
    "        all_stopwords.remove(i)\n",
    "  all_stopwords.append('got')\n",
    "\n",
    "  #Remove all stopwords from each message and stem the remaining words\n",
    "  message = [ps.stem(word) for word in message if not word in set(all_stopwords)]\n",
    "  #Put the message back together and add it to corpus\n",
    "  message = ' '.join(message)\n",
    "  corpus.append(message)"
   ]
  },
  {
   "cell_type": "code",
   "execution_count": 502,
   "metadata": {},
   "outputs": [
    {
     "name": "stdout",
     "output_type": "stream",
     "text": [
      "['i', 'me', 'my', 'myself', 'we', 'our', 'ours', 'ourselves', 'you', \"you're\", \"you've\", \"you'll\", \"you'd\", 'your', 'yours', 'yourself', 'yourselves', 'he', 'him', 'his', 'himself', 'she', \"she's\", 'her', 'hers', 'herself', 'it', \"it's\", 'its', 'itself', 'they', 'them', 'their', 'theirs', 'themselves', 'what', 'which', 'who', 'whom', 'this', 'that', \"that'll\", 'these', 'those', 'am', 'is', 'are', 'was', 'were', 'be', 'been', 'being', 'have', 'has', 'had', 'having', 'do', 'does', 'did', 'doing', 'a', 'an', 'the', 'and', 'but', 'if', 'or', 'because', 'as', 'until', 'while', 'of', 'at', 'by', 'for', 'with', 'about', 'against', 'between', 'into', 'through', 'during', 'before', 'after', 'above', 'below', 'to', 'from', 'up', 'down', 'in', 'out', 'on', 'off', 'over', 'under', 'again', 'further', 'then', 'once', 'here', 'there', 'when', 'where', 'why', 'how', 'all', 'any', 'both', 'each', 'few', 'more', 'most', 'other', 'some', 'such', 'no', 'nor', 'only', 'own', 'same', 'so', 'than', 'too', 'very', 's', 't', 'can', 'will', 'just', \"don't\", 'should', \"should've\", 'now', 'd', 'll', 'm', 'o', 're', 've', 'y', 'ain', \"aren't\", \"couldn't\", \"didn't\", \"doesn't\", \"hadn't\", \"hasn't\", \"haven't\", \"isn't\", 'ma', 'mightn', \"mightn't\", 'mustn', \"mustn't\", 'needn', \"needn't\", 'shan', \"shan't\", \"shouldn't\", \"wasn't\", \"weren't\", \"won't\", \"wouldn't\", 'got']\n"
     ]
    }
   ],
   "source": [
    "#Print stopwords to see if any words need to be left in the dataset (can re-run the above if needed)\n",
    "print(all_stopwords)"
   ]
  },
  {
   "cell_type": "code",
   "execution_count": 503,
   "metadata": {},
   "outputs": [
    {
     "name": "stdout",
     "output_type": "stream",
     "text": [
      "nice hotel expens park good deal stay hotel anniversari arriv late even took advic previou review valet park check quick easi littl disappoint non exist view room room clean nice size bed comfort woke stiff neck high pillow not soundproof like heard music room night morn loud bang door open close hear peopl talk hallway mayb noisi neighbor aveda bath product nice not goldfish stay nice touch taken advantag stay longer locat great walk distanc shop overal nice experi pay park night\n",
      "\n",
      "ok noth special charg diamond member hilton decid chain shot th anniversari seattl start book suit paid extra websit descript not suit bedroom bathroom standard hotel room took print reserv desk show said thing like tv couch ect desk clerk told oh mix suit descript kimpton websit sorri free breakfast kid embassi suit sit room bathroom bedroom unlik kimpton call suit day stay offer correct fals advertis send kimpton prefer guest websit email ask failur provid suit advertis websit reserv descript furnish hard copi reserv printout websit desk manag duti not repli solut send email trip guest survey not follow email mail guess tell concern guest staff rang indiffer not help ask desk good breakfast spot neighborhood hood told hotel gee best breakfast spot seattl block away conveni hotel not know exist arriv late night pm insid run bellman busi chate cell phone help bag prior arriv email hotel inform th anniversari half realli picki want make sure good nice email say like deliv bottl champagn chocol cover strawberri room arriv celebr told need foam pillow arriv champagn strawberri foam pillow great room view alley high rise build good not better housekeep staff cleaner room properti impress left morn shop room short trip hour bed comfort not good ac heat control x inch screen bring green shine directli eye night light sensit tape control not start hotel clean busi hotel super high rate better chain hotel seattl\n",
      "\n",
      "nice room not experi hotel monaco seattl good hotel n level posit larg bathroom mediterranean suit comfort bed pillowsattent housekeep staffneg ac unit malfunct stay desk disorgan miss separ wakeup call concierg busi hard touch n provid guidanc special request tv hard use ipod sound dock suit non function decid book mediterranean suit night weekend stay st choic rest parti fill comparison w spent night larger squar footag room great soak tub whirlpool jet nice shower stay hotel arrang car servic price tip reason driver wait arriv checkin easi downsid room pick person jacuzi tub bath accessori salt bubbl bath n stay night check voucher bottl champagn nice gestur fish wait room impress room huge open space felt room big tv far away bed chore chang channel ipod dock broken disappoint morn way ask desk check thermostat said f degre warm tri cover face night bright blue light kept room night st drop desk call maintain came look thermostat told play set happi digit box wo n work ask wakeup morn n happen call later pm nap wakeup forgot wakeup morn yep forgotten bathroom facil great room surpris room sold whirlpool bath tub n bath amen great relax water jet go\n"
     ]
    }
   ],
   "source": [
    "#Print the first few reviews' final form\n",
    "print(corpus[0] + \"\\n\\n\" + corpus[1] + \"\\n\\n\" + corpus[2])"
   ]
  },
  {
   "cell_type": "markdown",
   "metadata": {
    "colab_type": "text",
    "id": "CLqmAkANCp1-"
   },
   "source": [
    "## Create the Bag of Words Model/Sparse Matrix"
   ]
  },
  {
   "cell_type": "code",
   "execution_count": 504,
   "metadata": {},
   "outputs": [],
   "source": [
    "#Split the dataset into the training set and the test set\n",
    "X = corpus\n",
    "y = dataset.iloc[:, -1].values\n",
    "X_train, X_test, y_train, y_test = train_test_split(X, y, test_size = 0.20, random_state = 0)"
   ]
  },
  {
   "cell_type": "markdown",
   "metadata": {},
   "source": [
    "Here, we split the data into the training set and the test set, fitting on training set and transforming it to a sparse matrix, but only transforming the test set to a sparse matrix, not fitting on the test set.  Fitting on the test set was a mistake I saw being made, even in online courses, so I wanted to mention it.\n",
    "\n",
    "A few parameters that can be tuned, which will have an effect on the accuracy of our prediction model, include the stopwords above, obviously, but also include the size of the training set vs test set, the max features of count vectorizer (that is, the number of words the model recognizes), the number of trees in the random forest model, and the random forest criterion.  I decided, for this model, to leave the test size at 20%, but I will run k-fold cross validation at the end.\n",
    "\n",
    "I wrote a function, rftuner, where you can enter a list of word counts, and a list of tree counts, as well as the criterion to try, which will print out the accuracy score and time of each attempt.  I've commented out the function call so that it doesn't take up your time unless you actually want to run it--there's an xgtuner as well.  Some of the tunings I've experimented with are listed below."
   ]
  },
  {
   "cell_type": "code",
   "execution_count": 505,
   "metadata": {},
   "outputs": [],
   "source": [
    "#Varying the number of trees\n",
    "#words 2000, trees 100, .548\n",
    "#words 2000, trees 10, .506\n",
    "#words 2000, trees 1000, .559 <- highest\n",
    "\n",
    "#Varying the number of words\n",
    "#words 4000, trees 100, .546\n",
    "#words 3000, trees 100, .5459\n",
    "#words 1000, trees 100, .5508\n",
    "#words 1500, trees 100, .5528 <- highest\n",
    "#words 2500, trees 100, .5447\n",
    "\n",
    "#Varying the number of words using gini coefficient instead of entropy as the Random Forest Criterion\n",
    "#words 1500, trees 100, gini, .5557\n",
    "#words 1000, trees 100, gini, .5574\n",
    "#words 2000, trees 100, gini, .5472\n",
    "#words 750, trees 100, gini, .5618 <- highest\n",
    "#words 500, trees 100, gini, .5518\n",
    "\n",
    "#A couple more variations\n",
    "#words 750, trees 1000, gini, .5655 <- highest RF model I found\n",
    "#words 750, trees 100, entropy, .5455\n",
    "\n",
    "#XGBoost:\n",
    "#words 750, .595 <- highest model overall\n",
    "#words 500, .5816\n",
    "#words 1000, .593"
   ]
  },
  {
   "cell_type": "markdown",
   "metadata": {},
   "source": [
    "Interestingly enough, 750 words was the sweet spot.  Adding words intuitively seems like it would give the model more data to work with, but once the core words are obtained, extraneous words such as \"got\" are just going to get in the way of prediction accuracy.  The gini coefficient seemed to be a better criterion for this dataset than entropy, overall.  In addition, 100 trees is the sweet spot whenever I run random forest--1000 trees will add less than 1% accuracy here, but take many times longer to run.\n",
    "\n",
    "And of course, XGBoost ended up doing better than even Random Forest, which is no surprise.  It takes longer than 100-tree RF, but it's faster than 1000-tree RF, with better accuracy!  14 seconds for 100 trees, 123 seconds for 1000 trees, 95 seconds for XGBoost.\n",
    "\n",
    "The tuner functions are below so you can try variations yourself (just uncomment the function calls and modify the lists)!"
   ]
  },
  {
   "cell_type": "code",
   "execution_count": 506,
   "metadata": {},
   "outputs": [],
   "source": [
    "#X_train: the original X training set, in reviews\n",
    "#rf_train: variable to store X_train within the rf loop\n",
    "#rf_train_loop: variable to modify rf_train in each iteration and then reread it, without changing the original\n",
    "#Same goes for y_train, rfy_train, xgy_train, xgy_train_loop, etc\n",
    "\n",
    "def rftuner(words = [20], trees = [10, 100], coeff = 'entropy', rfx_train = [[]], rfx_test = [[]], rfy_test = [[]], rfy_train = [[]]):\n",
    "    \"\"\"Run 1 or more Random Forest models on NLP training and test data.  It will iterate through the list of word counts,\n",
    "    and the list of trees, outputting the accuracy and time of each model.\n",
    "\n",
    "    Args:\n",
    "    words: list. A list of word counts to try for the bag of words model.\n",
    "    trees: list. A list of tree counts for the random forest model.\n",
    "    coeff: string. The criterion variable for the rf model.  Common choices are 'entropy' and 'gini' though others exist.\n",
    "    rfx_train: numpy array.  The training set of texts for the NLP model.\n",
    "    rfx_test: numpy array.  The test set of texts for the NLP model.\n",
    "    rfy_train: numpy array.  The training set of response variables to classify.\n",
    "    rfy_test: numpy array.  The test set of response variables measure predictions against.\n",
    "\n",
    "    Returns:\n",
    "    None.\n",
    "    \"\"\"\n",
    "    start_time = time.time()\n",
    "    for i in words:\n",
    "        for j in trees:\n",
    "            #Create bag of words model/sparse matrix\n",
    "            cv = CountVectorizer(max_features = i)\n",
    "            rfx_train_loop = cv.fit_transform(rfx_train).toarray()\n",
    "            rfx_test_loop = cv.transform(rfx_test).toarray()\n",
    "            classifier = RandomForestClassifier(n_estimators = j, criterion = coeff, random_state = 0)\n",
    "            classifier.fit(rfx_train_loop, rfy_train)\n",
    "\n",
    "            #Make prediction vector\n",
    "            y_pred = classifier.predict(rfx_test_loop)\n",
    "            print('Random Forest ' + coeff + ' accuracy with ' + str(i) + ' words, ' + str(j) + ' trees: ' \n",
    "                  + '{0:.2f} %'.format(accuracy_score(rfy_test, y_pred)*100))\n",
    "            print('Time: ' + '{0:.2f}'.format(time.time() - start_time))\n",
    "            start_time = time.time()\n",
    "\n",
    "\n",
    "def xgtuner(words = [15], xgx_train = [[]], xgx_test = [[]], xgy_test = [[]], xgy_train = [[]]):\n",
    "    \"\"\"Run 1 or more XGBoost models on NLP training and test data.  It will iterate through the list of word counts, \n",
    "    outputting the accuracy and time of each model.\n",
    "\n",
    "    Args:\n",
    "    words: list. A list of word counts to try for the bag of words model.\n",
    "    xgx_train: numpy array.  The training set of texts for the NLP model.\n",
    "    xgx_test: numpy array.  The test set of texts for the NLP model.\n",
    "    xgy_train: numpy array.  The training set of response variables to classify.\n",
    "    xgy_test: numpy array.  The test set of response variables measure predictions against.\n",
    "\n",
    "    Returns:\n",
    "    None.\n",
    "    \"\"\"\n",
    "    start_time = time.time()\n",
    "    for i in words:\n",
    "        #Create bag of words model/sparse matrix\n",
    "        cv = CountVectorizer(max_features = i)\n",
    "        xgx_train_loop = cv.fit_transform(xgx_train).toarray()\n",
    "        xgx_test_loop = cv.transform(xgx_test).toarray()\n",
    "        #XGBoost won't tolerate Ratings 1-5, so we turn them into 0-4:\n",
    "        xgy_train_loop = xgy_train.copy()\n",
    "        xgy_test_loop = xgy_test.copy()\n",
    "        for j in range(0, len(xgy_train_loop)):\n",
    "            xgy_train_loop[j] = xgy_train_loop[j] -1\n",
    "        for j in range(0, len(xgy_test_loop)):\n",
    "            xgy_test_loop[j] = xgy_test_loop[j] - 1\n",
    "        classifier = XGBClassifier()\n",
    "        classifier.fit(xgx_train_loop, xgy_train_loop)\n",
    "\n",
    "        #Make prediction vector\n",
    "        y_pred = classifier.predict(xgx_test_loop)\n",
    "        print('XGBoost ' + ' accuracy with ' + str(i) + ' words: ' \n",
    "              + '{0:.2f} %'.format(accuracy_score(xgy_test_loop, y_pred)*100))\n",
    "        print('Time: ' + '{0:.2f}'.format((time.time() - start_time)))\n",
    "        start_time = time.time()\n",
    "\n",
    "#uncomment the following line and adjust words list, trees list, and coeff if you want to try multiple runs\n",
    "#rftuner(words=[750], trees=[100, 1000], coeff='gini', rfx_train = X_train, rfx_test = X_test, rfy_test = y_test, rfy_train = y_train)\n",
    "        \n",
    "#uncomment the following line and adjust the words list if you want to try multiple runs    \n",
    "#xgtuner(words = [750], xgx_train = X_train, xgx_test = X_test, xgy_test = y_test, xgy_train = y_train)"
   ]
  },
  {
   "cell_type": "markdown",
   "metadata": {},
   "source": [
    "Now I'll use the best model I found, the XGBoost model on 750 words, so that y_pred is available if we wanted to use it for something (remember to use y_pred + 1 if you ever use it against the original data).  I create final X_train, X_test, y_train, and y_test variables so that these cells can be continually rerun for experimentation, without having to reread the dataset above."
   ]
  },
  {
   "cell_type": "markdown",
   "metadata": {
    "colab_type": "text",
    "id": "VkIq23vEDIPt"
   },
   "source": [
    "## Training the selected model on the Training set"
   ]
  },
  {
   "cell_type": "code",
   "execution_count": 507,
   "metadata": {},
   "outputs": [
    {
     "data": {
      "text/plain": [
       "XGBClassifier(base_score=None, booster=None, callbacks=None,\n",
       "              colsample_bylevel=None, colsample_bynode=None,\n",
       "              colsample_bytree=None, early_stopping_rounds=None,\n",
       "              enable_categorical=False, eval_metric=None, feature_types=None,\n",
       "              gamma=None, gpu_id=None, grow_policy=None, importance_type=None,\n",
       "              interaction_constraints=None, learning_rate=None, max_bin=None,\n",
       "              max_cat_threshold=None, max_cat_to_onehot=None,\n",
       "              max_delta_step=None, max_depth=None, max_leaves=None,\n",
       "              min_child_weight=None, missing=nan, monotone_constraints=None,\n",
       "              n_estimators=100, n_jobs=None, num_parallel_tree=None,\n",
       "              objective='multi:softprob', predictor=None, ...)"
      ]
     },
     "execution_count": 507,
     "metadata": {},
     "output_type": "execute_result"
    }
   ],
   "source": [
    "#Create bag of words model/sparse matrix\n",
    "cv = CountVectorizer(max_features = 750)\n",
    "X_train_final = cv.fit_transform(X_train).toarray()\n",
    "X_test_final = cv.transform(X_test).toarray()\n",
    "\n",
    "#New variable names so I don't contaminate the originals\n",
    "y_train_final = y_train.copy()\n",
    "y_test_final = y_test.copy()\n",
    "\n",
    "#Modify Ratings to be 0-4 instead of 1-5, for XGBoost\n",
    "for i in range(0, len(y_train_final)):\n",
    "    y_train_final[i] = y_train_final[i] - 1\n",
    "for i in range(0, len(y_test_final)):\n",
    "    y_test_final[i] = y_test_final[i] - 1\n",
    "\n",
    "#Fit the model\n",
    "classifier = XGBClassifier()\n",
    "classifier.fit(X_train_final, y_train_final)"
   ]
  },
  {
   "cell_type": "markdown",
   "metadata": {
    "colab_type": "text",
    "id": "1JaRM7zXDWUy"
   },
   "source": [
    "## Prediction Vector"
   ]
  },
  {
   "cell_type": "code",
   "execution_count": 508,
   "metadata": {
    "colab": {
     "base_uri": "https://localhost:8080/",
     "height": 1000
    },
    "colab_type": "code",
    "executionInfo": {
     "elapsed": 4464,
     "status": "ok",
     "timestamp": 1589791461907,
     "user": {
      "displayName": "Hadelin de Ponteves",
      "photoUrl": "https://lh3.googleusercontent.com/a-/AOh14GhEuXdT7eQweUmRPW8_laJuPggSK6hfvpl5a6WBaA=s64",
      "userId": "15047218817161520419"
     },
     "user_tz": -240
    },
    "id": "Iif0CVhFDaMp",
    "outputId": "1266c3f2-d500-440e-d756-e0eabad504a7"
   },
   "outputs": [
    {
     "name": "stdout",
     "output_type": "stream",
     "text": [
      "[[1 1]\n",
      " [2 1]\n",
      " [4 3]\n",
      " ...\n",
      " [3 4]\n",
      " [3 3]\n",
      " [4 4]]\n"
     ]
    }
   ],
   "source": [
    "#Make prediction vector, compare it against y_test\n",
    "y_pred = classifier.predict(X_test_final)\n",
    "print(np.concatenate((y_pred.reshape(len(y_pred),1), y_test_final.reshape(len(y_test_final),1)),1))"
   ]
  },
  {
   "cell_type": "markdown",
   "metadata": {
    "colab_type": "text",
    "id": "xoMltea5Dir1"
   },
   "source": [
    "## Model Evaluation Metrics"
   ]
  },
  {
   "cell_type": "code",
   "execution_count": 509,
   "metadata": {
    "colab": {
     "base_uri": "https://localhost:8080/",
     "height": 68
    },
    "colab_type": "code",
    "executionInfo": {
     "elapsed": 4462,
     "status": "ok",
     "timestamp": 1589791461907,
     "user": {
      "displayName": "Hadelin de Ponteves",
      "photoUrl": "https://lh3.googleusercontent.com/a-/AOh14GhEuXdT7eQweUmRPW8_laJuPggSK6hfvpl5a6WBaA=s64",
      "userId": "15047218817161520419"
     },
     "user_tz": -240
    },
    "id": "Xj9IU6MxDnvo",
    "outputId": "43efba29-9811-4913-a085-8355ec1c02cb"
   },
   "outputs": [
    {
     "name": "stdout",
     "output_type": "stream",
     "text": [
      "[[ 188   57   11   11   18]\n",
      " [  79  107   61   65   43]\n",
      " [  12   79  101  212   67]\n",
      " [   3   20   66  575  539]\n",
      " [   2   10   11  294 1468]]\n"
     ]
    },
    {
     "data": {
      "text/plain": [
       "0.595023176384484"
      ]
     },
     "execution_count": 509,
     "metadata": {},
     "output_type": "execute_result"
    }
   ],
   "source": [
    "#Make the confusion matrix and print the final accuracy score\n",
    "cm = confusion_matrix(y_test_final, y_pred)\n",
    "print(cm)\n",
    "accuracy_score(y_test_final, y_pred)"
   ]
  },
  {
   "cell_type": "code",
   "execution_count": 534,
   "metadata": {},
   "outputs": [
    {
     "data": {
      "image/png": "[encoded data removed]",
      "text/plain": [
       "<Figure size 432x288 with 1 Axes>"
      ]
     },
     "metadata": {
      "needs_background": "light"
     },
     "output_type": "display_data"
    },
    {
     "name": "stdout",
     "output_type": "stream",
     "text": [
      "Pretty close!\n"
     ]
    },
    {
     "data": {
      "image/png": "[encoded data removed]",
      "text/plain": [
       "<Figure size 432x288 with 1 Axes>"
      ]
     },
     "metadata": {
      "needs_background": "light"
     },
     "output_type": "display_data"
    }
   ],
   "source": [
    "#Plot Predictions\n",
    "#Adding 1 to y_pred and y_test_final to reflect the original Rating scale\n",
    "plt.hist(y_pred + 1, color='orange')\n",
    "plt.title('Predicted Ratings')\n",
    "plt.show()\n",
    "\n",
    "print('Pretty close!')\n",
    "\n",
    "#Plot Actual\n",
    "plt.hist(y_test_final + 1)\n",
    "plt.title('Actual Ratings')\n",
    "plt.show()"
   ]
  },
  {
   "cell_type": "markdown",
   "metadata": {},
   "source": [
    "K-fold cross validation checks whether the model I selected can generalize across the entire dataset with similar accuracy,\n",
    "or if I simply got lucky because of the random training/test split that it landed on.  I commented it out so that you wouldn't have to sit through it for 20 minutes unless you want to.\n",
    "\n",
    "58.71% with standard deviation 1.19!  So our 59% accuracy is on the high end, but still feasible."
   ]
  },
  {
   "cell_type": "code",
   "execution_count": 511,
   "metadata": {},
   "outputs": [],
   "source": [
    "#K-fold cross-validation\n",
    "#scores = cross_val_score(estimator = classifier, X = X_train_final, y = y_train_final, cv = 10)\n",
    "#print(\"Accuracy: {:.2f} %\".format(scores.mean()*100))\n",
    "#print(\"Standard Deviation: {:.2f} %\".format(scores.std()*100))\n",
    "\n",
    "#Accuracy: 58.71 %\n",
    "#Standard Deviation: 1.19 %"
   ]
  },
  {
   "cell_type": "markdown",
   "metadata": {},
   "source": [
    "## Conclusions"
   ]
  },
  {
   "cell_type": "markdown",
   "metadata": {},
   "source": [
    "I'm reasonably content with 59% accuracy, for a dataset with reviews optioned 1-5.  This isn't an accuracy score on a binary response variable; it's on 5 categories, and they're ambiguous as it is.  For example, someone might write a glowing 5-star review and then think \"there's always room for improvement\" and give a 4, or someone might write a scathing 1-star review and then feel a bit mean and give a 2, and so on.  And if the algorithm picks 4 and it was a 5, there's no measure here for that closeness to the mark.  That would be a good idea for a future program.\n",
    "\n",
    "Anyway, if you just guessed at each category, you should end up with about a 20% accuracy rate.  If you knew this dataset and knew that 5s were the most common at 44%, you could guess 5 for each one and get a 44% accuracy rate.  So, XGBoost getting 59% is something I'm ambivalent about--I'm pleased that something I implemented got this result, and yet I want it to be better.  It's coming..."
   ]
  }
 ],
 "metadata": {
  "colab": {
   "authorship_tag": "ABX9TyMx/KsxUDrn2M5QbIb03B9p",
   "collapsed_sections": [],
   "name": "natural_language_processing.ipynb",
   "provenance": []
  },
  "kernelspec": {
   "display_name": "Python 3",
   "language": "python",
   "name": "python3"
  },
  "language_info": {
   "codemirror_mode": {
    "name": "ipython",
    "version": 3
   },
   "file_extension": ".py",
   "mimetype": "text/x-python",
   "name": "python",
   "nbconvert_exporter": "python",
   "pygments_lexer": "ipython3",
   "version": "3.8.5"
  }
 },
 "nbformat": 4,
 "nbformat_minor": 1
}
